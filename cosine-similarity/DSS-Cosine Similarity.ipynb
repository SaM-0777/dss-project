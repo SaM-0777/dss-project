{
  "cells": [
    {
      "cell_type": "code",
      "execution_count": null,
      "metadata": {
        "id": "SQPxWbvTdRhP"
      },
      "outputs": [],
      "source": [
        "import numpy as np\n",
        "import pandas as pd"
      ]
    },
    {
      "cell_type": "code",
      "execution_count": null,
      "metadata": {
        "id": "C0uRMJciR8_H"
      },
      "outputs": [],
      "source": [
        "df1=pd.read_csv(\"Bhagwad_Gita.csv\")"
      ]
    },
    {
      "cell_type": "code",
      "execution_count": null,
      "metadata": {
        "colab": {
          "base_uri": "https://localhost:8080/",
          "height": 300
        },
        "id": "A3tHfPfVSDcn",
        "outputId": "fc049904-cfcc-4e75-9364-19097ab5d13b"
      },
      "outputs": [
        {
          "output_type": "execute_result",
          "data": {
            "text/plain": [
              "          Chapter       Verse\n",
              "count  695.000000  695.000000\n",
              "mean     9.014388   23.290647\n",
              "std      5.606431   16.739971\n",
              "min      1.000000    1.000000\n",
              "25%      4.000000   10.000000\n",
              "50%      9.000000   20.000000\n",
              "75%     14.000000   32.000000\n",
              "max     18.000000   78.000000"
            ],
            "text/html": [
              "\n",
              "\n",
              "  <div id=\"df-0ae05dcd-eab7-4d81-8be1-856b1e14806d\">\n",
              "    <div class=\"colab-df-container\">\n",
              "      <div>\n",
              "<style scoped>\n",
              "    .dataframe tbody tr th:only-of-type {\n",
              "        vertical-align: middle;\n",
              "    }\n",
              "\n",
              "    .dataframe tbody tr th {\n",
              "        vertical-align: top;\n",
              "    }\n",
              "\n",
              "    .dataframe thead th {\n",
              "        text-align: right;\n",
              "    }\n",
              "</style>\n",
              "<table border=\"1\" class=\"dataframe\">\n",
              "  <thead>\n",
              "    <tr style=\"text-align: right;\">\n",
              "      <th></th>\n",
              "      <th>Chapter</th>\n",
              "      <th>Verse</th>\n",
              "    </tr>\n",
              "  </thead>\n",
              "  <tbody>\n",
              "    <tr>\n",
              "      <th>count</th>\n",
              "      <td>695.000000</td>\n",
              "      <td>695.000000</td>\n",
              "    </tr>\n",
              "    <tr>\n",
              "      <th>mean</th>\n",
              "      <td>9.014388</td>\n",
              "      <td>23.290647</td>\n",
              "    </tr>\n",
              "    <tr>\n",
              "      <th>std</th>\n",
              "      <td>5.606431</td>\n",
              "      <td>16.739971</td>\n",
              "    </tr>\n",
              "    <tr>\n",
              "      <th>min</th>\n",
              "      <td>1.000000</td>\n",
              "      <td>1.000000</td>\n",
              "    </tr>\n",
              "    <tr>\n",
              "      <th>25%</th>\n",
              "      <td>4.000000</td>\n",
              "      <td>10.000000</td>\n",
              "    </tr>\n",
              "    <tr>\n",
              "      <th>50%</th>\n",
              "      <td>9.000000</td>\n",
              "      <td>20.000000</td>\n",
              "    </tr>\n",
              "    <tr>\n",
              "      <th>75%</th>\n",
              "      <td>14.000000</td>\n",
              "      <td>32.000000</td>\n",
              "    </tr>\n",
              "    <tr>\n",
              "      <th>max</th>\n",
              "      <td>18.000000</td>\n",
              "      <td>78.000000</td>\n",
              "    </tr>\n",
              "  </tbody>\n",
              "</table>\n",
              "</div>\n",
              "      <button class=\"colab-df-convert\" onclick=\"convertToInteractive('df-0ae05dcd-eab7-4d81-8be1-856b1e14806d')\"\n",
              "              title=\"Convert this dataframe to an interactive table.\"\n",
              "              style=\"display:none;\">\n",
              "\n",
              "  <svg xmlns=\"http://www.w3.org/2000/svg\" height=\"24px\"viewBox=\"0 0 24 24\"\n",
              "       width=\"24px\">\n",
              "    <path d=\"M0 0h24v24H0V0z\" fill=\"none\"/>\n",
              "    <path d=\"M18.56 5.44l.94 2.06.94-2.06 2.06-.94-2.06-.94-.94-2.06-.94 2.06-2.06.94zm-11 1L8.5 8.5l.94-2.06 2.06-.94-2.06-.94L8.5 2.5l-.94 2.06-2.06.94zm10 10l.94 2.06.94-2.06 2.06-.94-2.06-.94-.94-2.06-.94 2.06-2.06.94z\"/><path d=\"M17.41 7.96l-1.37-1.37c-.4-.4-.92-.59-1.43-.59-.52 0-1.04.2-1.43.59L10.3 9.45l-7.72 7.72c-.78.78-.78 2.05 0 2.83L4 21.41c.39.39.9.59 1.41.59.51 0 1.02-.2 1.41-.59l7.78-7.78 2.81-2.81c.8-.78.8-2.07 0-2.86zM5.41 20L4 18.59l7.72-7.72 1.47 1.35L5.41 20z\"/>\n",
              "  </svg>\n",
              "      </button>\n",
              "\n",
              "\n",
              "\n",
              "    <div id=\"df-cd1506f7-0c2a-45bb-a962-53ece5697138\">\n",
              "      <button class=\"colab-df-quickchart\" onclick=\"quickchart('df-cd1506f7-0c2a-45bb-a962-53ece5697138')\"\n",
              "              title=\"Suggest charts.\"\n",
              "              style=\"display:none;\">\n",
              "\n",
              "<svg xmlns=\"http://www.w3.org/2000/svg\" height=\"24px\"viewBox=\"0 0 24 24\"\n",
              "     width=\"24px\">\n",
              "    <g>\n",
              "        <path d=\"M19 3H5c-1.1 0-2 .9-2 2v14c0 1.1.9 2 2 2h14c1.1 0 2-.9 2-2V5c0-1.1-.9-2-2-2zM9 17H7v-7h2v7zm4 0h-2V7h2v10zm4 0h-2v-4h2v4z\"/>\n",
              "    </g>\n",
              "</svg>\n",
              "      </button>\n",
              "    </div>\n",
              "\n",
              "<style>\n",
              "  .colab-df-quickchart {\n",
              "    background-color: #E8F0FE;\n",
              "    border: none;\n",
              "    border-radius: 50%;\n",
              "    cursor: pointer;\n",
              "    display: none;\n",
              "    fill: #1967D2;\n",
              "    height: 32px;\n",
              "    padding: 0 0 0 0;\n",
              "    width: 32px;\n",
              "  }\n",
              "\n",
              "  .colab-df-quickchart:hover {\n",
              "    background-color: #E2EBFA;\n",
              "    box-shadow: 0px 1px 2px rgba(60, 64, 67, 0.3), 0px 1px 3px 1px rgba(60, 64, 67, 0.15);\n",
              "    fill: #174EA6;\n",
              "  }\n",
              "\n",
              "  [theme=dark] .colab-df-quickchart {\n",
              "    background-color: #3B4455;\n",
              "    fill: #D2E3FC;\n",
              "  }\n",
              "\n",
              "  [theme=dark] .colab-df-quickchart:hover {\n",
              "    background-color: #434B5C;\n",
              "    box-shadow: 0px 1px 3px 1px rgba(0, 0, 0, 0.15);\n",
              "    filter: drop-shadow(0px 1px 2px rgba(0, 0, 0, 0.3));\n",
              "    fill: #FFFFFF;\n",
              "  }\n",
              "</style>\n",
              "\n",
              "    <script>\n",
              "      async function quickchart(key) {\n",
              "        const containerElement = document.querySelector('#' + key);\n",
              "        const charts = await google.colab.kernel.invokeFunction(\n",
              "            'suggestCharts', [key], {});\n",
              "      }\n",
              "    </script>\n",
              "\n",
              "      <script>\n",
              "\n",
              "function displayQuickchartButton(domScope) {\n",
              "  let quickchartButtonEl =\n",
              "    domScope.querySelector('#df-cd1506f7-0c2a-45bb-a962-53ece5697138 button.colab-df-quickchart');\n",
              "  quickchartButtonEl.style.display =\n",
              "    google.colab.kernel.accessAllowed ? 'block' : 'none';\n",
              "}\n",
              "\n",
              "        displayQuickchartButton(document);\n",
              "      </script>\n",
              "      <style>\n",
              "    .colab-df-container {\n",
              "      display:flex;\n",
              "      flex-wrap:wrap;\n",
              "      gap: 12px;\n",
              "    }\n",
              "\n",
              "    .colab-df-convert {\n",
              "      background-color: #E8F0FE;\n",
              "      border: none;\n",
              "      border-radius: 50%;\n",
              "      cursor: pointer;\n",
              "      display: none;\n",
              "      fill: #1967D2;\n",
              "      height: 32px;\n",
              "      padding: 0 0 0 0;\n",
              "      width: 32px;\n",
              "    }\n",
              "\n",
              "    .colab-df-convert:hover {\n",
              "      background-color: #E2EBFA;\n",
              "      box-shadow: 0px 1px 2px rgba(60, 64, 67, 0.3), 0px 1px 3px 1px rgba(60, 64, 67, 0.15);\n",
              "      fill: #174EA6;\n",
              "    }\n",
              "\n",
              "    [theme=dark] .colab-df-convert {\n",
              "      background-color: #3B4455;\n",
              "      fill: #D2E3FC;\n",
              "    }\n",
              "\n",
              "    [theme=dark] .colab-df-convert:hover {\n",
              "      background-color: #434B5C;\n",
              "      box-shadow: 0px 1px 3px 1px rgba(0, 0, 0, 0.15);\n",
              "      filter: drop-shadow(0px 1px 2px rgba(0, 0, 0, 0.3));\n",
              "      fill: #FFFFFF;\n",
              "    }\n",
              "  </style>\n",
              "\n",
              "      <script>\n",
              "        const buttonEl =\n",
              "          document.querySelector('#df-0ae05dcd-eab7-4d81-8be1-856b1e14806d button.colab-df-convert');\n",
              "        buttonEl.style.display =\n",
              "          google.colab.kernel.accessAllowed ? 'block' : 'none';\n",
              "\n",
              "        async function convertToInteractive(key) {\n",
              "          const element = document.querySelector('#df-0ae05dcd-eab7-4d81-8be1-856b1e14806d');\n",
              "          const dataTable =\n",
              "            await google.colab.kernel.invokeFunction('convertToInteractive',\n",
              "                                                     [key], {});\n",
              "          if (!dataTable) return;\n",
              "\n",
              "          const docLinkHtml = 'Like what you see? Visit the ' +\n",
              "            '<a target=\"_blank\" href=https://colab.research.google.com/notebooks/data_table.ipynb>data table notebook</a>'\n",
              "            + ' to learn more about interactive tables.';\n",
              "          element.innerHTML = '';\n",
              "          dataTable['output_type'] = 'display_data';\n",
              "          await google.colab.output.renderOutput(dataTable, element);\n",
              "          const docLink = document.createElement('div');\n",
              "          docLink.innerHTML = docLinkHtml;\n",
              "          element.appendChild(docLink);\n",
              "        }\n",
              "      </script>\n",
              "    </div>\n",
              "  </div>\n"
            ]
          },
          "metadata": {},
          "execution_count": 7
        }
      ],
      "source": [
        "df1.describe()"
      ]
    },
    {
      "cell_type": "code",
      "execution_count": null,
      "metadata": {
        "id": "5mIR6UdRdZq7"
      },
      "outputs": [],
      "source": [
        "# df=pd.read_csv('/content/Shloks_EN.csv')\n",
        "# df"
      ]
    },
    {
      "cell_type": "markdown",
      "metadata": {
        "id": "iX4hpw2ezJRN"
      },
      "source": [
        "#TF-IDF Vectorizer"
      ]
    },
    {
      "cell_type": "code",
      "execution_count": null,
      "metadata": {
        "id": "h14yWnD-zhFy"
      },
      "outputs": [],
      "source": [
        "from sklearn.feature_extraction.text import TfidfVectorizer\n",
        "vectorizer = TfidfVectorizer()"
      ]
    },
    {
      "cell_type": "code",
      "execution_count": null,
      "metadata": {
        "id": "b37TJ5ddz0oh"
      },
      "outputs": [],
      "source": [
        "# vecs = vectorizer.fit_transform(df[\"Shloks\"])"
      ]
    },
    {
      "cell_type": "code",
      "execution_count": null,
      "metadata": {
        "colab": {
          "base_uri": "https://localhost:8080/"
        },
        "id": "ZTg-lzY3uamG",
        "outputId": "e791df8e-4380-4a77-95e7-00de58851258"
      },
      "outputs": [
        {
          "output_type": "stream",
          "name": "stderr",
          "text": [
            "[nltk_data] Downloading package punkt to /root/nltk_data...\n",
            "[nltk_data]   Unzipping tokenizers/punkt.zip.\n"
          ]
        }
      ],
      "source": [
        "import nltk\n",
        "nltk.download('punkt')\n",
        "from nltk.tokenize import word_tokenize\n",
        "import warnings\n",
        "import re\n",
        "from gensim.parsing.preprocessing import STOPWORDS\n",
        "from nltk.stem import PorterStemmer\n",
        "\n",
        "# data = pd.read_csv('BBC News Train.csv')\n",
        "\n",
        "def spl_chars_removal(lst):\n",
        "    lst1=list()\n",
        "    for element in lst:\n",
        "        str=\"\"\n",
        "        str = re.sub(\"[^0-9a-zA-Z]\",\" \",element)\n",
        "        lst1.append(str)\n",
        "    return lst1\n",
        "\n",
        "def stopwords_removal(lst):\n",
        "    lst1=list()\n",
        "    for str in lst:\n",
        "        text_tokens = word_tokenize(str)\n",
        "        tokens_without_sw = [word for word in text_tokens if not word in STOPWORDS]\n",
        "        str_t = \" \".join(tokens_without_sw)\n",
        "        lst1.append(str_t)\n",
        "\n",
        "    return lst1\n",
        "\n",
        "ps = PorterStemmer()\n",
        "\n",
        "corpus = []\n",
        "for shlok in df1['EngMeaning']:\n",
        "  # Tokenization\n",
        "  words = word_tokenize(shlok)\n",
        "\n",
        "  # spl chars removal\n",
        "  words = spl_chars_removal(words)\n",
        "\n",
        "  # stopwords removal\n",
        "  words = stopwords_removal(words)\n",
        "\n",
        "  # stemming\n",
        "  final_lst = []\n",
        "  for word in words:\n",
        "      final_lst.append(ps.stem(word))\n",
        "\n",
        "  corpus.append(' '.join(final_lst))"
      ]
    },
    {
      "cell_type": "code",
      "execution_count": null,
      "metadata": {
        "id": "NT090TmHz1r2"
      },
      "outputs": [],
      "source": [
        "vecs = vectorizer.fit_transform(corpus)"
      ]
    },
    {
      "cell_type": "code",
      "execution_count": null,
      "metadata": {
        "colab": {
          "base_uri": "https://localhost:8080/"
        },
        "id": "bN1lg9PPz4PB",
        "outputId": "15ba4a55-3d29-469e-bd07-e2e3f249b581"
      },
      "outputs": [
        {
          "output_type": "execute_result",
          "data": {
            "text/plain": [
              "<695x1833 sparse matrix of type '<class 'numpy.float64'>'\n",
              "\twith 9339 stored elements in Compressed Sparse Row format>"
            ]
          },
          "metadata": {},
          "execution_count": 13
        }
      ],
      "source": [
        "vecs"
      ]
    },
    {
      "cell_type": "code",
      "execution_count": null,
      "metadata": {
        "colab": {
          "base_uri": "https://localhost:8080/"
        },
        "id": "sBJPRxjQz5tS",
        "outputId": "85ac23be-1174-4142-fd02-2611a9998cdb"
      },
      "outputs": [
        {
          "output_type": "execute_result",
          "data": {
            "text/plain": [
              "(695, 1833)"
            ]
          },
          "metadata": {},
          "execution_count": 14
        }
      ],
      "source": [
        "vecs.shape"
      ]
    },
    {
      "cell_type": "code",
      "execution_count": null,
      "metadata": {
        "id": "cVzW-FsTz9lE"
      },
      "outputs": [],
      "source": [
        "from sklearn.metrics.pairwise import cosine_similarity"
      ]
    },
    {
      "cell_type": "code",
      "execution_count": null,
      "metadata": {
        "id": "C7t35f910BSy"
      },
      "outputs": [],
      "source": [
        "def topFive(query,queryLanguage):\n",
        "  query=query.lower()\n",
        "  queryLanguage= queryLanguage.lower()\n",
        "  q=vectorizer.transform([query])\n",
        "  arr=[]\n",
        "  for i in range (0,vecs.shape[0]):\n",
        "    sim = cosine_similarity(q,vecs[i])\n",
        "    temp= [i,sim[0][0]]\n",
        "    arr.append(temp)\n",
        "  arr=sorted(arr,key=lambda x:x[1])\n",
        "  arr=arr[::-1]\n",
        "  for i in range (0,5):\n",
        "    # print(i)\n",
        "    # print(df1['EngMeaning'][arr[i][0]])\n",
        "    # print()\n",
        "    if(queryLanguage=='hindi'):\n",
        "      print(df1['HinMeaning'][arr[i][0]])\n",
        "      print()\n",
        "    elif (queryLanguage=='english'):\n",
        "      print(df1['EngMeaning'][arr[i][0]])\n",
        "    elif (queryLanguage=='sanskrit'):\n",
        "     print(df1['Shloka'][arr[i][0]])"
      ]
    },
    {
      "cell_type": "code",
      "execution_count": null,
      "metadata": {
        "colab": {
          "base_uri": "https://localhost:8080/"
        },
        "id": "YGZo6iqd0KPE",
        "outputId": "24c8a234-3731-4c91-d970-719a572888c0"
      },
      "outputs": [
        {
          "output_type": "stream",
          "name": "stdout",
          "text": [
            "यच्चापि सर्वभूतानां बीजं तदहमर्जुन |\n",
            "न तदस्ति विना यत्स्यान्मया भूतं चराचरम् ||१०-३९||\n",
            "मां च योऽव्यभिचारेण भक्तियोगेन सेवते |\n",
            "स गुणान्समतीत्यैतान्ब्रह्मभूयाय कल्पते ||१४-२६||\n",
            "निमित्तानि च पश्यामि विपरीतानि केशव |\n",
            "न च श्रेयोऽनुपश्यामि हत्वा स्वजनमाहवे ||१-३१||\n",
            "सुखं त्विदानीं त्रिविधं शृणु मे भरतर्षभ |\n",
            "अभ्यासाद्रमते यत्र दुःखान्तं च निगच्छति ||१८-३६||\n",
            "अधियज्ञः कथं कोऽत्र देहेऽस्मिन्मधुसूदन |\n",
            "प्रयाणकाले च कथं ज्ञेयोऽसि नियतात्मभिः ||८-२||\n"
          ]
        }
      ],
      "source": [
        "topFive('karm and dharm','Sanskrit')"
      ]
    },
    {
      "cell_type": "markdown",
      "metadata": {
        "id": "Khv4X1UizDTr"
      },
      "source": [
        "#Elastic Search"
      ]
    },
    {
      "cell_type": "code",
      "execution_count": null,
      "metadata": {
        "id": "NE6NvXyxubrp"
      },
      "outputs": [],
      "source": []
    },
    {
      "cell_type": "code",
      "execution_count": null,
      "metadata": {
        "id": "iSFFMgaJubp8"
      },
      "outputs": [],
      "source": [
        "# corpus=[]\n",
        "\n",
        "# for x in df['Shloks']:\n",
        "#     corpus.append(x)"
      ]
    },
    {
      "cell_type": "code",
      "execution_count": null,
      "metadata": {
        "id": "M4rqfz3fundm"
      },
      "outputs": [],
      "source": []
    },
    {
      "cell_type": "code",
      "execution_count": null,
      "metadata": {
        "colab": {
          "base_uri": "https://localhost:8080/"
        },
        "id": "ARTC4pDpussV",
        "outputId": "120f1bed-2deb-4d87-bd13-fed215921cba"
      },
      "outputs": [
        {
          "output_type": "execute_result",
          "data": {
            "text/plain": [
              "695"
            ]
          },
          "metadata": {},
          "execution_count": 19
        }
      ],
      "source": [
        "# len(corpus)"
      ]
    },
    {
      "cell_type": "code",
      "execution_count": null,
      "metadata": {
        "colab": {
          "base_uri": "https://localhost:8080/"
        },
        "id": "F6hPypjgu1FM",
        "outputId": "faf3c9b6-5542-4e72-e43d-8ebfa0563da1"
      },
      "outputs": [
        {
          "output_type": "stream",
          "name": "stdout",
          "text": [
            "Collecting rank-bm25\n",
            "  Downloading rank_bm25-0.2.2-py3-none-any.whl (8.6 kB)\n",
            "Requirement already satisfied: numpy in /usr/local/lib/python3.10/dist-packages (from rank-bm25) (1.22.4)\n",
            "Installing collected packages: rank-bm25\n",
            "Successfully installed rank-bm25-0.2.2\n"
          ]
        }
      ],
      "source": [
        "# pip install rank-bm25"
      ]
    },
    {
      "cell_type": "code",
      "execution_count": null,
      "metadata": {
        "id": "A76VNUEUu6Qg"
      },
      "outputs": [],
      "source": [
        "# from rank_bm25 import *"
      ]
    },
    {
      "cell_type": "code",
      "execution_count": null,
      "metadata": {
        "colab": {
          "base_uri": "https://localhost:8080/"
        },
        "id": "-z1UIPBxvJ1g",
        "outputId": "4ec11da3-e6f6-405e-f649-c4ed20e203b2"
      },
      "outputs": [
        {
          "output_type": "stream",
          "name": "stdout",
          "text": [
            "Collecting flask-ngrok\n",
            "  Downloading flask_ngrok-0.0.25-py3-none-any.whl (3.1 kB)\n",
            "Requirement already satisfied: Flask>=0.8 in /usr/local/lib/python3.10/dist-packages (from flask-ngrok) (2.2.5)\n",
            "Requirement already satisfied: requests in /usr/local/lib/python3.10/dist-packages (from flask-ngrok) (2.27.1)\n",
            "Requirement already satisfied: Werkzeug>=2.2.2 in /usr/local/lib/python3.10/dist-packages (from Flask>=0.8->flask-ngrok) (2.3.6)\n",
            "Requirement already satisfied: Jinja2>=3.0 in /usr/local/lib/python3.10/dist-packages (from Flask>=0.8->flask-ngrok) (3.1.2)\n",
            "Requirement already satisfied: itsdangerous>=2.0 in /usr/local/lib/python3.10/dist-packages (from Flask>=0.8->flask-ngrok) (2.1.2)\n",
            "Requirement already satisfied: click>=8.0 in /usr/local/lib/python3.10/dist-packages (from Flask>=0.8->flask-ngrok) (8.1.6)\n",
            "Requirement already satisfied: urllib3<1.27,>=1.21.1 in /usr/local/lib/python3.10/dist-packages (from requests->flask-ngrok) (1.26.16)\n",
            "Requirement already satisfied: certifi>=2017.4.17 in /usr/local/lib/python3.10/dist-packages (from requests->flask-ngrok) (2023.7.22)\n",
            "Requirement already satisfied: charset-normalizer~=2.0.0 in /usr/local/lib/python3.10/dist-packages (from requests->flask-ngrok) (2.0.12)\n",
            "Requirement already satisfied: idna<4,>=2.5 in /usr/local/lib/python3.10/dist-packages (from requests->flask-ngrok) (3.4)\n",
            "Requirement already satisfied: MarkupSafe>=2.0 in /usr/local/lib/python3.10/dist-packages (from Jinja2>=3.0->Flask>=0.8->flask-ngrok) (2.1.3)\n",
            "Installing collected packages: flask-ngrok\n",
            "Successfully installed flask-ngrok-0.0.25\n"
          ]
        }
      ],
      "source": [
        "# !pip install flask-ngrok"
      ]
    },
    {
      "cell_type": "code",
      "execution_count": null,
      "metadata": {
        "id": "U_u4u3T9Lgca"
      },
      "outputs": [],
      "source": [
        "# from flask import Flask\n",
        "# from flask_ngrok import run_with_ngrok"
      ]
    },
    {
      "cell_type": "code",
      "execution_count": null,
      "metadata": {
        "id": "CH83cqIVLtj-"
      },
      "outputs": [],
      "source": [
        "# app=Flask(__name__)\n",
        "# run_with_ngrok(app)\n",
        "\n",
        "# @app.route(\"/\")\n",
        "# def shlok_search(query,language, corpus, n, df):\n",
        "#   tokenized_corpus = [doc.split(\" \") for doc in corpus]\n",
        "#   bm25 = BM25Okapi(tokenized_corpus)\n",
        "#   tokenized_query = query.split(\" \")\n",
        "#   doc_scores = bm25.get_scores(tokenized_query)\n",
        "#   # print(doc_scores)\n",
        "#   ind = np.argpartition(doc_scores, -n)[-n:]\n",
        "#   ind=ind[::-1]\n",
        "#   if(language=='hindi'):\n",
        "#     return df1['HinMeaning'][ind]\n",
        "#   elif (language=='english'):\n",
        "#     return df1['EngMeaning'][ind]\n",
        "#   elif (language=='sanskrit'):\n",
        "#     return df1['Shloka'][ind]\n",
        "\n",
        "\n",
        "# Query_shloka = input(\"Enter your query for news search: \").lower()\n",
        "# Query_language= input(\"Enter your preferred language: \").lower()\n",
        "# n = 5\n",
        "# print(f'Displaying top {n} articles \\n')\n",
        "# result = shlok_search(Query_shloka, Query_language, corpus, n, df)\n",
        "# for ans in result:\n",
        "#   print(ans)\n",
        "#   print()\n",
        "\n",
        "# app.run()"
      ]
    },
    {
      "cell_type": "code",
      "execution_count": null,
      "metadata": {
        "id": "V57s0GNRu_xx"
      },
      "outputs": [],
      "source": [
        "# def shlok_search(query,language, corpus, n, df):\n",
        "#   tokenized_corpus = [doc.split(\" \") for doc in corpus]\n",
        "#   bm25 = BM25Okapi(tokenized_corpus)\n",
        "#   tokenized_query = query.split(\" \")\n",
        "#   doc_scores = bm25.get_scores(tokenized_query)\n",
        "#   # print(doc_scores)\n",
        "#   ind = np.argpartition(doc_scores, -n)[-n:]\n",
        "#   ind=ind[::-1]\n",
        "#   if(language=='hindi'):\n",
        "#     return df1['HinMeaning'][ind]\n",
        "#   elif (language=='english'):\n",
        "#     return df1['EngMeaning'][ind]\n",
        "#   elif (language=='sanskrit'):\n",
        "#     return df1['Shloka'][ind]\n"
      ]
    },
    {
      "cell_type": "code",
      "execution_count": null,
      "metadata": {
        "colab": {
          "base_uri": "https://localhost:8080/",
          "height": 320
        },
        "id": "6COxdbkgvCn6",
        "outputId": "0271af7b-b904-4730-b51b-fd72cd55bbdc"
      },
      "outputs": [
        {
          "output_type": "stream",
          "name": "stdout",
          "text": [
            "Enter your query for news search: something\n",
            "Enter your preferred language: hindi\n",
            "Displaying top 5 articles \n",
            "\n"
          ]
        },
        {
          "output_type": "error",
          "ename": "NameError",
          "evalue": "ignored",
          "traceback": [
            "\u001b[0;31m---------------------------------------------------------------------------\u001b[0m",
            "\u001b[0;31mNameError\u001b[0m                                 Traceback (most recent call last)",
            "\u001b[0;32m<ipython-input-26-033883c647a8>\u001b[0m in \u001b[0;36m<cell line: 5>\u001b[0;34m()\u001b[0m\n\u001b[1;32m      3\u001b[0m \u001b[0mn\u001b[0m \u001b[0;34m=\u001b[0m \u001b[0;36m5\u001b[0m\u001b[0;34m\u001b[0m\u001b[0;34m\u001b[0m\u001b[0m\n\u001b[1;32m      4\u001b[0m \u001b[0mprint\u001b[0m\u001b[0;34m(\u001b[0m\u001b[0;34mf'Displaying top {n} articles \\n'\u001b[0m\u001b[0;34m)\u001b[0m\u001b[0;34m\u001b[0m\u001b[0;34m\u001b[0m\u001b[0m\n\u001b[0;32m----> 5\u001b[0;31m \u001b[0mresult\u001b[0m \u001b[0;34m=\u001b[0m \u001b[0mshlok_search\u001b[0m\u001b[0;34m(\u001b[0m\u001b[0mQuery_shloka\u001b[0m\u001b[0;34m,\u001b[0m \u001b[0mQuery_language\u001b[0m\u001b[0;34m,\u001b[0m \u001b[0mcorpus\u001b[0m\u001b[0;34m,\u001b[0m \u001b[0mn\u001b[0m\u001b[0;34m,\u001b[0m \u001b[0mdf\u001b[0m\u001b[0;34m)\u001b[0m\u001b[0;34m\u001b[0m\u001b[0;34m\u001b[0m\u001b[0m\n\u001b[0m\u001b[1;32m      6\u001b[0m \u001b[0;32mfor\u001b[0m \u001b[0mans\u001b[0m \u001b[0;32min\u001b[0m \u001b[0mresult\u001b[0m\u001b[0;34m:\u001b[0m\u001b[0;34m\u001b[0m\u001b[0;34m\u001b[0m\u001b[0m\n\u001b[1;32m      7\u001b[0m   \u001b[0mprint\u001b[0m\u001b[0;34m(\u001b[0m\u001b[0mans\u001b[0m\u001b[0;34m)\u001b[0m\u001b[0;34m\u001b[0m\u001b[0;34m\u001b[0m\u001b[0m\n",
            "\u001b[0;31mNameError\u001b[0m: name 'df' is not defined"
          ]
        }
      ],
      "source": [
        "# Query_shloka = input(\"Enter your query for news search: \").lower()\n",
        "# Query_language= input(\"Enter your preferred language: \").lower()\n",
        "# n = 5\n",
        "# print(f'Displaying top {n} articles \\n')\n",
        "# result = shlok_search(Query_shloka, Query_language, corpus, n, df)\n",
        "# for ans in result:\n",
        "#   print(ans)\n",
        "#   print()"
      ]
    },
    {
      "cell_type": "code",
      "source": [
        "# import pickle"
      ],
      "metadata": {
        "id": "fAm0NVNtPVFu"
      },
      "execution_count": null,
      "outputs": []
    },
    {
      "cell_type": "code",
      "source": [
        "# pickle.dump(vecs,'vecs_tf_idf')"
      ],
      "metadata": {
        "id": "FVtuwpz5PW6O"
      },
      "execution_count": null,
      "outputs": []
    },
    {
      "cell_type": "code",
      "source": [
        "# pickle.dump(vecs,open('vecs_tf_idf.pkl','wb'))"
      ],
      "metadata": {
        "id": "8GOHWC1tmtnk"
      },
      "execution_count": null,
      "outputs": []
    },
    {
      "cell_type": "code",
      "source": [
        "# pickle.dump(vectorizer,open('vectorizer.pkl','wb'))"
      ],
      "metadata": {
        "id": "yKD2YhHznF6r"
      },
      "execution_count": null,
      "outputs": []
    },
    {
      "cell_type": "code",
      "source": [
        "# with open(\"vecs_tf_idf.pkl\",\"wb\") as f:\n",
        "#     pickle.dump(vecs, f)"
      ],
      "metadata": {
        "id": "51KXe6OHPrWt"
      },
      "execution_count": null,
      "outputs": []
    },
    {
      "cell_type": "code",
      "source": [
        "# with open(\"vectorizer.pkl\",\"wb\") as f:\n",
        "#     pickle.dump(vectorizer, f)"
      ],
      "metadata": {
        "id": "hoMVYeUiQIHg"
      },
      "execution_count": null,
      "outputs": []
    },
    {
      "cell_type": "code",
      "source": [],
      "metadata": {
        "id": "0_xrvhAGQ2L4"
      },
      "execution_count": null,
      "outputs": []
    }
  ],
  "metadata": {
    "colab": {
      "provenance": []
    },
    "kernelspec": {
      "display_name": "Python 3",
      "name": "python3"
    },
    "language_info": {
      "name": "python"
    }
  },
  "nbformat": 4,
  "nbformat_minor": 0
}